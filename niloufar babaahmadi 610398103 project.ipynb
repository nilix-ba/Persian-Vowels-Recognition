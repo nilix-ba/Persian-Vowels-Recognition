{
 "cells": [
  {
   "cell_type": "markdown",
   "id": "812ffbcc",
   "metadata": {},
   "source": [
    "# Persian Ezafe Recognition \n",
    "#### Niloufar Babaahmadi 610398103 Final Project"
   ]
  },
  {
   "cell_type": "code",
   "execution_count": 116,
   "id": "9b25f69d",
   "metadata": {},
   "outputs": [],
   "source": [
    "import pandas as pd\n",
    "import numpy as np\n",
    "from sklearn import *\n",
    "from sklearn import metrics\n",
    "from sklearn.model_selection import ShuffleSplit, cross_val_score\n",
    "from sklearn.model_selection import train_test_split\n",
    "from sklearn.metrics import precision_score, recall_score, accuracy_score\n",
    "from sklearn.ensemble import RandomForestClassifier\n",
    "from sklearn.datasets import make_classification\n",
    "from sklearn.naive_bayes import GaussianNB\n",
    "from sklearn.linear_model import LogisticRegression\n",
    "from sklearn import svm\n",
    "from sklearn.ensemble import GradientBoostingClassifier\n",
    "from sklearn.neural_network import MLPClassifier\n",
    "from sklearn import tree\n",
    "import matplotlib.pyplot as plt\n",
    "from numpy import loadtxt\n",
    "from xgboost import XGBClassifier"
   ]
  },
  {
   "cell_type": "markdown",
   "id": "f0f1b575",
   "metadata": {},
   "source": [
    "Reading the input data."
   ]
  },
  {
   "cell_type": "code",
   "execution_count": 78,
   "id": "f3254ab8",
   "metadata": {},
   "outputs": [
    {
     "data": {
      "text/html": [
       "<div>\n",
       "<style scoped>\n",
       "    .dataframe tbody tr th:only-of-type {\n",
       "        vertical-align: middle;\n",
       "    }\n",
       "\n",
       "    .dataframe tbody tr th {\n",
       "        vertical-align: top;\n",
       "    }\n",
       "\n",
       "    .dataframe thead th {\n",
       "        text-align: right;\n",
       "    }\n",
       "</style>\n",
       "<table border=\"1\" class=\"dataframe\">\n",
       "  <thead>\n",
       "    <tr style=\"text-align: right;\">\n",
       "      <th></th>\n",
       "      <th>Unnamed: 0</th>\n",
       "      <th>token</th>\n",
       "      <th>pos_tag</th>\n",
       "      <th>ezafe_tag</th>\n",
       "    </tr>\n",
       "  </thead>\n",
       "  <tbody>\n",
       "    <tr>\n",
       "      <th>0</th>\n",
       "      <td>0</td>\n",
       "      <td>!هنری!</td>\n",
       "      <td>SUBJ</td>\n",
       "      <td>0</td>\n",
       "    </tr>\n",
       "    <tr>\n",
       "      <th>1</th>\n",
       "      <td>1</td>\n",
       "      <td>#</td>\n",
       "      <td>DELM</td>\n",
       "      <td>0</td>\n",
       "    </tr>\n",
       "    <tr>\n",
       "      <th>2</th>\n",
       "      <td>2</td>\n",
       "      <td>مسعود</td>\n",
       "      <td>N_SING_PR</td>\n",
       "      <td>1</td>\n",
       "    </tr>\n",
       "    <tr>\n",
       "      <th>3</th>\n",
       "      <td>3</td>\n",
       "      <td>شجاعی</td>\n",
       "      <td>N_SING_PR</td>\n",
       "      <td>1</td>\n",
       "    </tr>\n",
       "    <tr>\n",
       "      <th>4</th>\n",
       "      <td>4</td>\n",
       "      <td>طباطبایی</td>\n",
       "      <td>N_SING_PR</td>\n",
       "      <td>0</td>\n",
       "    </tr>\n",
       "  </tbody>\n",
       "</table>\n",
       "</div>"
      ],
      "text/plain": [
       "   Unnamed: 0     token    pos_tag  ezafe_tag\n",
       "0           0    !هنری!       SUBJ          0\n",
       "1           1         #       DELM          0\n",
       "2           2     مسعود  N_SING_PR          1\n",
       "3           3     شجاعی  N_SING_PR          1\n",
       "4           4  طباطبایی  N_SING_PR          0"
      ]
     },
     "execution_count": 78,
     "metadata": {},
     "output_type": "execute_result"
    }
   ],
   "source": [
    "df = pd.read_csv(\"updated_bijankhan_corpus.csv\")\n",
    "\n",
    "df.head()"
   ]
  },
  {
   "cell_type": "markdown",
   "id": "6a4092ff",
   "metadata": {},
   "source": [
    "Since we are going to train models using this data, we have to transform the tag to numbers."
   ]
  },
  {
   "cell_type": "code",
   "execution_count": 87,
   "id": "9012d964",
   "metadata": {},
   "outputs": [
    {
     "data": {
      "text/html": [
       "<div>\n",
       "<style scoped>\n",
       "    .dataframe tbody tr th:only-of-type {\n",
       "        vertical-align: middle;\n",
       "    }\n",
       "\n",
       "    .dataframe tbody tr th {\n",
       "        vertical-align: top;\n",
       "    }\n",
       "\n",
       "    .dataframe thead th {\n",
       "        text-align: right;\n",
       "    }\n",
       "</style>\n",
       "<table border=\"1\" class=\"dataframe\">\n",
       "  <thead>\n",
       "    <tr style=\"text-align: right;\">\n",
       "      <th></th>\n",
       "      <th>Unnamed: 0</th>\n",
       "      <th>token</th>\n",
       "      <th>pos_tag</th>\n",
       "      <th>ezafe_tag</th>\n",
       "      <th>next_tag</th>\n",
       "      <th>last_tag</th>\n",
       "    </tr>\n",
       "  </thead>\n",
       "  <tbody>\n",
       "    <tr>\n",
       "      <th>0</th>\n",
       "      <td>0</td>\n",
       "      <td>!هنری!</td>\n",
       "      <td>248</td>\n",
       "      <td>0</td>\n",
       "      <td>65</td>\n",
       "      <td>0</td>\n",
       "    </tr>\n",
       "    <tr>\n",
       "      <th>1</th>\n",
       "      <td>1</td>\n",
       "      <td>#</td>\n",
       "      <td>65</td>\n",
       "      <td>0</td>\n",
       "      <td>167</td>\n",
       "      <td>248</td>\n",
       "    </tr>\n",
       "    <tr>\n",
       "      <th>2</th>\n",
       "      <td>2</td>\n",
       "      <td>مسعود</td>\n",
       "      <td>167</td>\n",
       "      <td>1</td>\n",
       "      <td>167</td>\n",
       "      <td>65</td>\n",
       "    </tr>\n",
       "    <tr>\n",
       "      <th>3</th>\n",
       "      <td>3</td>\n",
       "      <td>شجاعی</td>\n",
       "      <td>167</td>\n",
       "      <td>1</td>\n",
       "      <td>167</td>\n",
       "      <td>167</td>\n",
       "    </tr>\n",
       "    <tr>\n",
       "      <th>4</th>\n",
       "      <td>4</td>\n",
       "      <td>طباطبایی</td>\n",
       "      <td>167</td>\n",
       "      <td>0</td>\n",
       "      <td>65</td>\n",
       "      <td>167</td>\n",
       "    </tr>\n",
       "  </tbody>\n",
       "</table>\n",
       "</div>"
      ],
      "text/plain": [
       "   Unnamed: 0     token  pos_tag  ezafe_tag  next_tag  last_tag\n",
       "0           0    !هنری!      248          0        65         0\n",
       "1           1         #       65          0       167       248\n",
       "2           2     مسعود      167          1       167        65\n",
       "3           3     شجاعی      167          1       167       167\n",
       "4           4  طباطبایی      167          0        65       167"
      ]
     },
     "execution_count": 87,
     "metadata": {},
     "output_type": "execute_result"
    }
   ],
   "source": [
    "le = preprocessing.LabelEncoder()\n",
    "df['pos_tag'] = le.fit_transform(df.pos_tag.values)\n",
    "\n",
    "df.head()"
   ]
  },
  {
   "cell_type": "markdown",
   "id": "637cbe67",
   "metadata": {},
   "source": [
    "A little persian grammar lesson: Having ezafe depends on 3 main factors; The current word's part of speech, The next word's part of speech, The last word's part of speech. We will add the needed features to our data frame."
   ]
  },
  {
   "cell_type": "code",
   "execution_count": 88,
   "id": "5d2b5f6c",
   "metadata": {},
   "outputs": [
    {
     "data": {
      "text/html": [
       "<div>\n",
       "<style scoped>\n",
       "    .dataframe tbody tr th:only-of-type {\n",
       "        vertical-align: middle;\n",
       "    }\n",
       "\n",
       "    .dataframe tbody tr th {\n",
       "        vertical-align: top;\n",
       "    }\n",
       "\n",
       "    .dataframe thead th {\n",
       "        text-align: right;\n",
       "    }\n",
       "</style>\n",
       "<table border=\"1\" class=\"dataframe\">\n",
       "  <thead>\n",
       "    <tr style=\"text-align: right;\">\n",
       "      <th></th>\n",
       "      <th>Unnamed: 0</th>\n",
       "      <th>token</th>\n",
       "      <th>pos_tag</th>\n",
       "      <th>ezafe_tag</th>\n",
       "      <th>next_tag</th>\n",
       "      <th>last_tag</th>\n",
       "    </tr>\n",
       "  </thead>\n",
       "  <tbody>\n",
       "    <tr>\n",
       "      <th>0</th>\n",
       "      <td>0</td>\n",
       "      <td>!هنری!</td>\n",
       "      <td>248</td>\n",
       "      <td>0</td>\n",
       "      <td>65</td>\n",
       "      <td>0</td>\n",
       "    </tr>\n",
       "    <tr>\n",
       "      <th>1</th>\n",
       "      <td>1</td>\n",
       "      <td>#</td>\n",
       "      <td>65</td>\n",
       "      <td>0</td>\n",
       "      <td>167</td>\n",
       "      <td>248</td>\n",
       "    </tr>\n",
       "    <tr>\n",
       "      <th>2</th>\n",
       "      <td>2</td>\n",
       "      <td>مسعود</td>\n",
       "      <td>167</td>\n",
       "      <td>1</td>\n",
       "      <td>167</td>\n",
       "      <td>65</td>\n",
       "    </tr>\n",
       "    <tr>\n",
       "      <th>3</th>\n",
       "      <td>3</td>\n",
       "      <td>شجاعی</td>\n",
       "      <td>167</td>\n",
       "      <td>1</td>\n",
       "      <td>167</td>\n",
       "      <td>167</td>\n",
       "    </tr>\n",
       "    <tr>\n",
       "      <th>4</th>\n",
       "      <td>4</td>\n",
       "      <td>طباطبایی</td>\n",
       "      <td>167</td>\n",
       "      <td>0</td>\n",
       "      <td>65</td>\n",
       "      <td>167</td>\n",
       "    </tr>\n",
       "  </tbody>\n",
       "</table>\n",
       "</div>"
      ],
      "text/plain": [
       "   Unnamed: 0     token  pos_tag  ezafe_tag  next_tag  last_tag\n",
       "0           0    !هنری!      248          0        65         0\n",
       "1           1         #       65          0       167       248\n",
       "2           2     مسعود      167          1       167        65\n",
       "3           3     شجاعی      167          1       167       167\n",
       "4           4  طباطبایی      167          0        65       167"
      ]
     },
     "execution_count": 88,
     "metadata": {},
     "output_type": "execute_result"
    }
   ],
   "source": [
    "col = df['pos_tag'].tolist()\n",
    "col.pop(0)\n",
    "col.append(0)\n",
    "df['next_tag'] = col\n",
    "df.head()"
   ]
  },
  {
   "cell_type": "code",
   "execution_count": 89,
   "id": "efa36fdb",
   "metadata": {},
   "outputs": [
    {
     "data": {
      "text/html": [
       "<div>\n",
       "<style scoped>\n",
       "    .dataframe tbody tr th:only-of-type {\n",
       "        vertical-align: middle;\n",
       "    }\n",
       "\n",
       "    .dataframe tbody tr th {\n",
       "        vertical-align: top;\n",
       "    }\n",
       "\n",
       "    .dataframe thead th {\n",
       "        text-align: right;\n",
       "    }\n",
       "</style>\n",
       "<table border=\"1\" class=\"dataframe\">\n",
       "  <thead>\n",
       "    <tr style=\"text-align: right;\">\n",
       "      <th></th>\n",
       "      <th>Unnamed: 0</th>\n",
       "      <th>token</th>\n",
       "      <th>pos_tag</th>\n",
       "      <th>ezafe_tag</th>\n",
       "      <th>next_tag</th>\n",
       "      <th>last_tag</th>\n",
       "    </tr>\n",
       "  </thead>\n",
       "  <tbody>\n",
       "    <tr>\n",
       "      <th>0</th>\n",
       "      <td>0</td>\n",
       "      <td>!هنری!</td>\n",
       "      <td>248</td>\n",
       "      <td>0</td>\n",
       "      <td>65</td>\n",
       "      <td>0</td>\n",
       "    </tr>\n",
       "    <tr>\n",
       "      <th>1</th>\n",
       "      <td>1</td>\n",
       "      <td>#</td>\n",
       "      <td>65</td>\n",
       "      <td>0</td>\n",
       "      <td>167</td>\n",
       "      <td>248</td>\n",
       "    </tr>\n",
       "    <tr>\n",
       "      <th>2</th>\n",
       "      <td>2</td>\n",
       "      <td>مسعود</td>\n",
       "      <td>167</td>\n",
       "      <td>1</td>\n",
       "      <td>167</td>\n",
       "      <td>65</td>\n",
       "    </tr>\n",
       "    <tr>\n",
       "      <th>3</th>\n",
       "      <td>3</td>\n",
       "      <td>شجاعی</td>\n",
       "      <td>167</td>\n",
       "      <td>1</td>\n",
       "      <td>167</td>\n",
       "      <td>167</td>\n",
       "    </tr>\n",
       "    <tr>\n",
       "      <th>4</th>\n",
       "      <td>4</td>\n",
       "      <td>طباطبایی</td>\n",
       "      <td>167</td>\n",
       "      <td>0</td>\n",
       "      <td>65</td>\n",
       "      <td>167</td>\n",
       "    </tr>\n",
       "  </tbody>\n",
       "</table>\n",
       "</div>"
      ],
      "text/plain": [
       "   Unnamed: 0     token  pos_tag  ezafe_tag  next_tag  last_tag\n",
       "0           0    !هنری!      248          0        65         0\n",
       "1           1         #       65          0       167       248\n",
       "2           2     مسعود      167          1       167        65\n",
       "3           3     شجاعی      167          1       167       167\n",
       "4           4  طباطبایی      167          0        65       167"
      ]
     },
     "execution_count": 89,
     "metadata": {},
     "output_type": "execute_result"
    }
   ],
   "source": [
    "col = df['pos_tag'].tolist()\n",
    "col.pop()\n",
    "col.insert(0, 0)\n",
    "df['last_tag'] = col\n",
    "df.head()"
   ]
  },
  {
   "cell_type": "markdown",
   "id": "9164b10d",
   "metadata": {},
   "source": [
    "### Random Forest classification model \n",
    "The random forest is a classification algorithm consisting of many decisions trees. It uses bagging and feature randomness when building each individual tree to try to create an uncorrelated forest of trees whose prediction by committee is more accurate than that of any individual tree. However, There is an issue when implementing this model and that's the large amount of time that it takes to run compared to decision tree."
   ]
  },
  {
   "cell_type": "code",
   "execution_count": 90,
   "id": "e6201182",
   "metadata": {},
   "outputs": [],
   "source": [
    "def Random_forest():\n",
    "    \n",
    "    global X, y\n",
    "    \n",
    "    X_train = X[:-100000]\n",
    "    X_test = X[-100000:]\n",
    "    y_train = y[:-100000]\n",
    "    y_test = y[-100000:]\n",
    "\n",
    "    clf = RandomForestClassifier(n_estimators=100)\n",
    "    clf.fit(X_train,y_train)\n",
    "\n",
    "    y_pred=clf.predict(X_test)\n",
    "    print(\"Accuracy:\",metrics.accuracy_score(y_test, y_pred))\n",
    "    print(\"precision:\", precision_score(y_test, y_pred))\n",
    "    print(\"recall:\", recall_score(y_test, y_pred, average=\"binary\"))"
   ]
  },
  {
   "cell_type": "code",
   "execution_count": 91,
   "id": "e16f5d50",
   "metadata": {},
   "outputs": [
    {
     "name": "stdout",
     "output_type": "stream",
     "text": [
      "Accuracy: 0.80501\n",
      "precision: 0.5755098426939763\n",
      "recall: 0.7921676958076048\n"
     ]
    }
   ],
   "source": [
    "global X, y\n",
    "\n",
    "X = df[['pos_tag']]  \n",
    "y = df['ezafe_tag'] \n",
    "\n",
    "Random_forest()"
   ]
  },
  {
   "cell_type": "code",
   "execution_count": 92,
   "id": "5a08ea46",
   "metadata": {},
   "outputs": [
    {
     "name": "stdout",
     "output_type": "stream",
     "text": [
      "Accuracy: 0.80212\n",
      "precision: 0.6701677710418723\n",
      "recall: 0.38621221969450764\n"
     ]
    }
   ],
   "source": [
    "X = df[['next_tag']]  \n",
    "y = df['ezafe_tag'] \n",
    "\n",
    "Random_forest()"
   ]
  },
  {
   "cell_type": "code",
   "execution_count": 93,
   "id": "22675929",
   "metadata": {},
   "outputs": [
    {
     "name": "stdout",
     "output_type": "stream",
     "text": [
      "Accuracy: 0.76493\n",
      "precision: 0.548678781494162\n",
      "recall: 0.25389990250243744\n"
     ]
    }
   ],
   "source": [
    "X = df[['last_tag']]  \n",
    "y = df['ezafe_tag'] \n",
    "\n",
    "Random_forest()"
   ]
  },
  {
   "cell_type": "code",
   "execution_count": 94,
   "id": "e691deac",
   "metadata": {},
   "outputs": [
    {
     "name": "stdout",
     "output_type": "stream",
     "text": [
      "Accuracy: 0.94606\n",
      "precision: 0.8754296875\n",
      "recall: 0.9104241143971401\n"
     ]
    }
   ],
   "source": [
    "X = df[['last_tag','next_tag','pos_tag']]  \n",
    "y = df['ezafe_tag'] \n",
    "\n",
    "Random_forest()"
   ]
  },
  {
   "cell_type": "markdown",
   "id": "192f63d9",
   "metadata": {},
   "source": [
    "### Decision Tree\n",
    "A decision tree is a flowchart-like structure in which each internal node represents a test on an attribute, each branch represents the outcome of the test, and each leaf node represents a class labe"
   ]
  },
  {
   "cell_type": "code",
   "execution_count": 95,
   "id": "03451303",
   "metadata": {},
   "outputs": [],
   "source": [
    "def decision_tree():\n",
    "    \n",
    "    global X, y\n",
    "    \n",
    "    X_train = X[:-100000]\n",
    "    X_test = X[-100000:]\n",
    "    y_train = y[:-100000]\n",
    "    y_test = y[-100000:] \n",
    "\n",
    "    clf = tree.DecisionTreeClassifier()\n",
    "    clf.fit(X_train,y_train)\n",
    "\n",
    "    y_pred=clf.predict(X_test)\n",
    "    \n",
    "    print(\"Accuracy:\",metrics.accuracy_score(y_test, y_pred))\n",
    "    print(\"precision:\", precision_score(y_test, y_pred))\n",
    "    print(\"recall:\", recall_score(y_test, y_pred, average=\"binary\"))"
   ]
  },
  {
   "cell_type": "code",
   "execution_count": 96,
   "id": "f39dbc41",
   "metadata": {},
   "outputs": [
    {
     "name": "stdout",
     "output_type": "stream",
     "text": [
      "Accuracy: 0.94594\n",
      "precision: 0.8753419304415787\n",
      "recall: 0.9099772505687358\n"
     ]
    }
   ],
   "source": [
    "global X, y\n",
    "\n",
    "X = df[['last_tag','next_tag','pos_tag']]  \n",
    "y = df['ezafe_tag'] \n",
    "\n",
    "decision_tree()"
   ]
  },
  {
   "cell_type": "code",
   "execution_count": 97,
   "id": "45fbb0a2",
   "metadata": {},
   "outputs": [
    {
     "name": "stdout",
     "output_type": "stream",
     "text": [
      "Accuracy: 0.80501\n",
      "precision: 0.5755098426939763\n",
      "recall: 0.7921676958076048\n"
     ]
    }
   ],
   "source": [
    "global X, y\n",
    "\n",
    "X = df[['pos_tag']]  \n",
    "y = df['ezafe_tag'] \n",
    "\n",
    "decision_tree()"
   ]
  },
  {
   "cell_type": "code",
   "execution_count": 98,
   "id": "c4e53fe5",
   "metadata": {},
   "outputs": [
    {
     "name": "stdout",
     "output_type": "stream",
     "text": [
      "Accuracy: 0.76493\n",
      "precision: 0.548678781494162\n",
      "recall: 0.25389990250243744\n"
     ]
    }
   ],
   "source": [
    "global X, y\n",
    "\n",
    "X = df[['last_tag']]  \n",
    "y = df['ezafe_tag'] \n",
    "\n",
    "decision_tree()"
   ]
  },
  {
   "cell_type": "code",
   "execution_count": 99,
   "id": "1ef723bc",
   "metadata": {},
   "outputs": [
    {
     "name": "stdout",
     "output_type": "stream",
     "text": [
      "Accuracy: 0.80212\n",
      "precision: 0.6701677710418723\n",
      "recall: 0.38621221969450764\n"
     ]
    }
   ],
   "source": [
    "global X, y\n",
    "\n",
    "X = df[['next_tag']]  \n",
    "y = df['ezafe_tag'] \n",
    "\n",
    "decision_tree()"
   ]
  },
  {
   "attachments": {
    "1*aFhOj7TdBIZir4keHMgHOw.png": {
     "image/png": "[encoded data removed]"
    }
   },
   "cell_type": "markdown",
   "id": "0a9b4c01",
   "metadata": {},
   "source": [
    "### Naive Bayes\n",
    "In statistics, naive Bayes classifiers are a family of simple \"probabilistic classifiers\" based on applying Bayes' theorem with strong independence assumptions between the features. \n",
    "![1*aFhOj7TdBIZir4keHMgHOw.png](attachment:1*aFhOj7TdBIZir4keHMgHOw.png)"
   ]
  },
  {
   "cell_type": "code",
   "execution_count": 100,
   "id": "52bdb09a",
   "metadata": {},
   "outputs": [],
   "source": [
    "def naive_bayes():\n",
    "    \n",
    "    global X, y\n",
    "    \n",
    "    X_train = X[:-100000]\n",
    "    X_test = X[-100000:]\n",
    "    y_train = y[:-100000]\n",
    "    y_test = y[-100000:] \n",
    "\n",
    "    clf = GaussianNB()\n",
    "    clf.fit(X_train,y_train)\n",
    "\n",
    "    y_pred=clf.predict(X_test)\n",
    "    print(\"Accuracy:\",metrics.accuracy_score(y_test, y_pred))\n",
    "    print(\"precision:\", precision_score(y_test, y_pred))\n",
    "    print(\"recall:\", recall_score(y_test, y_pred, average=\"binary\"))"
   ]
  },
  {
   "cell_type": "code",
   "execution_count": 101,
   "id": "f6805526",
   "metadata": {},
   "outputs": [
    {
     "name": "stdout",
     "output_type": "stream",
     "text": [
      "Accuracy: 0.72026\n",
      "precision: 0.45192417821555375\n",
      "recall: 0.6411683457913552\n"
     ]
    }
   ],
   "source": [
    "X = df[['last_tag','next_tag','pos_tag']]  \n",
    "y = df['ezafe_tag'] \n",
    "\n",
    "naive_bayes()"
   ]
  },
  {
   "cell_type": "markdown",
   "id": "d136c7a9",
   "metadata": {},
   "source": [
    "### Logistic Regression\n",
    "Logistic regression is a statistical model that in its basic form uses a logistic function to model a binary dependent variable.\n",
    "Here, we have Ezafe which is either 0 or 1 and so Logistic Regression could give us our desired results."
   ]
  },
  {
   "cell_type": "code",
   "execution_count": 102,
   "id": "238c46bc",
   "metadata": {},
   "outputs": [],
   "source": [
    "def logistic_regression():\n",
    "    \n",
    "    global X, y\n",
    "    \n",
    "    X_train = X[:-100000]\n",
    "    X_test = X[-100000:]\n",
    "    y_train = y[:-100000]\n",
    "    y_test = y[-100000:] \n",
    "\n",
    "    clf = LogisticRegression()\n",
    "    clf.fit(X_train,y_train)\n",
    "\n",
    "    y_pred=clf.predict(X_test)\n",
    "    print(\"Accuracy:\",metrics.accuracy_score(y_test, y_pred))\n",
    "    print(\"precision:\", precision_score(y_test, y_pred))\n",
    "    print(\"recall:\", recall_score(y_test, y_pred, average=\"binary\"))"
   ]
  },
  {
   "cell_type": "code",
   "execution_count": 103,
   "id": "10a7fbbd",
   "metadata": {},
   "outputs": [
    {
     "name": "stdout",
     "output_type": "stream",
     "text": [
      "Accuracy: 0.74729\n",
      "precision: 0.2770592239618788\n",
      "recall: 0.016533961650958728\n"
     ]
    }
   ],
   "source": [
    "X = df[['last_tag','next_tag','pos_tag']]  \n",
    "y = df['ezafe_tag'] \n",
    "\n",
    "logistic_regression()"
   ]
  },
  {
   "attachments": {
    "1*-IPQlOd46dlsutIbUq1Zcw.png": {
     "image/png": "[encoded data removed]"
    }
   },
   "cell_type": "markdown",
   "id": "ea4a750c",
   "metadata": {},
   "source": [
    "### MLP\n",
    "A multilayer perceptron (MLP) is a class of feedforward artificial neural network (ANN). \n",
    "![1*-IPQlOd46dlsutIbUq1Zcw.png](attachment:1*-IPQlOd46dlsutIbUq1Zcw.png)"
   ]
  },
  {
   "cell_type": "code",
   "execution_count": 104,
   "id": "2a7e3a9a",
   "metadata": {},
   "outputs": [],
   "source": [
    "def MLP():\n",
    "    \n",
    "    global X, y\n",
    "    \n",
    "    X_train = X[:-100000]\n",
    "    X_test = X[-100000:]\n",
    "    y_train = y[:-100000]\n",
    "    y_test = y[-100000:]  \n",
    "\n",
    "    \n",
    "    clf = MLPClassifier(solver='lbfgs', alpha=1e-5, hidden_layer_sizes=(5, 2), random_state=1)\n",
    "    clf.fit(X, y)\n",
    "\n",
    "    y_pred = clf.predict(X_test)\n",
    "    print(\"Accuracy:\",metrics.accuracy_score(y_test, y_pred))\n",
    "    print(\"precision:\", precision_score(y_test, y_pred, average=None, zero_division=1))\n",
    "    print(\"recall:\", recall_score(y_test, y_pred, average=None, zero_division=1))"
   ]
  },
  {
   "cell_type": "code",
   "execution_count": 105,
   "id": "1364aa87",
   "metadata": {},
   "outputs": [
    {
     "name": "stdout",
     "output_type": "stream",
     "text": [
      "Accuracy: 0.75384\n",
      "precision: [0.75384 1.     ]\n",
      "recall: [1. 0.]\n"
     ]
    }
   ],
   "source": [
    "global X, y\n",
    "\n",
    "X = df[['pos_tag']]  \n",
    "y = df['ezafe_tag'] \n",
    "\n",
    "MLP()"
   ]
  },
  {
   "cell_type": "code",
   "execution_count": 106,
   "id": "b9004a1e",
   "metadata": {},
   "outputs": [
    {
     "name": "stdout",
     "output_type": "stream",
     "text": [
      "Accuracy: 0.75384\n",
      "precision: [0.75384 1.     ]\n",
      "recall: [1. 0.]\n"
     ]
    }
   ],
   "source": [
    "global X, y\n",
    "\n",
    "X = df[['last_tag']]  \n",
    "y = df['ezafe_tag'] \n",
    "\n",
    "MLP()"
   ]
  },
  {
   "cell_type": "code",
   "execution_count": 107,
   "id": "44ceb187",
   "metadata": {},
   "outputs": [
    {
     "name": "stdout",
     "output_type": "stream",
     "text": [
      "Accuracy: 0.75384\n",
      "precision: [0.75384 1.     ]\n",
      "recall: [1. 0.]\n"
     ]
    }
   ],
   "source": [
    "global X, y\n",
    "\n",
    "X = df[['next_tag']]  \n",
    "y = df['ezafe_tag'] \n",
    "\n",
    "MLP()"
   ]
  },
  {
   "cell_type": "code",
   "execution_count": 108,
   "id": "f7c6b795",
   "metadata": {},
   "outputs": [
    {
     "name": "stdout",
     "output_type": "stream",
     "text": [
      "Accuracy: 0.75384\n",
      "precision: [0.75384 1.     ]\n",
      "recall: [1. 0.]\n"
     ]
    }
   ],
   "source": [
    "global X, y\n",
    "\n",
    "X = df[['last_tag','next_tag','pos_tag']]  \n",
    "y = df['ezafe_tag'] \n",
    "\n",
    "MLP()"
   ]
  },
  {
   "cell_type": "markdown",
   "id": "43339bab",
   "metadata": {},
   "source": [
    "### Gradient boosting classifiers\n",
    "Gradient boosting classifiers are a group of machine learning algorithms that combine many weak learning models together to create a strong predictive model. Decision trees are usually used when doing gradient boosting."
   ]
  },
  {
   "cell_type": "code",
   "execution_count": 117,
   "id": "ecd8effc",
   "metadata": {},
   "outputs": [],
   "source": [
    "def gradient_boosting_classifier():\n",
    "    \n",
    "    global X, y\n",
    "    \n",
    "    X_train = X[:-100000]\n",
    "    X_test = X[-100000:]\n",
    "    y_train = y[:-100000]\n",
    "    y_test = y[-100000:]  \n",
    " \n",
    "\n",
    "    clf = GradientBoostingClassifier(n_estimators=100, learning_rate=1.0, max_depth=1, random_state=0)\n",
    "    clf.fit(X_train,y_train)\n",
    "\n",
    "    y_pred=clf.predict(X_test)\n",
    "    print(\"Accuracy:\",metrics.accuracy_score(y_test, y_pred))\n",
    "    print(\"precision:\", precision_score(y_test, y_pred))\n",
    "    print(\"recall:\", recall_score(y_test, y_pred, average=\"binary\"))"
   ]
  },
  {
   "cell_type": "code",
   "execution_count": 118,
   "id": "6463f742",
   "metadata": {},
   "outputs": [
    {
     "name": "stdout",
     "output_type": "stream",
     "text": [
      "Accuracy: 0.79117\n",
      "precision: 0.5624268370179605\n",
      "recall: 0.683132921676958\n"
     ]
    }
   ],
   "source": [
    "global X, y\n",
    "\n",
    "X = df[['pos_tag']]  \n",
    "y = df['ezafe_tag'] \n",
    "\n",
    "gradient_boosting_classifier()"
   ]
  },
  {
   "cell_type": "code",
   "execution_count": 119,
   "id": "acfc4bf8",
   "metadata": {},
   "outputs": [
    {
     "name": "stdout",
     "output_type": "stream",
     "text": [
      "Accuracy: 0.80076\n",
      "precision: 0.6828526890101325\n",
      "recall: 0.3559067273318167\n"
     ]
    }
   ],
   "source": [
    "global X, y\n",
    "\n",
    "X = df[['next_tag']]  \n",
    "y = df['ezafe_tag'] \n",
    "\n",
    "gradient_boosting_classifier()"
   ]
  },
  {
   "cell_type": "code",
   "execution_count": 120,
   "id": "aae8f844",
   "metadata": {},
   "outputs": [
    {
     "name": "stdout",
     "output_type": "stream",
     "text": [
      "Accuracy: 0.76368\n",
      "precision: 0.5446460980036297\n",
      "recall: 0.24382515437114072\n"
     ]
    }
   ],
   "source": [
    "global X, y\n",
    "\n",
    "X = df[['last_tag']]  \n",
    "y = df['ezafe_tag'] \n",
    "\n",
    "gradient_boosting_classifier()"
   ]
  },
  {
   "cell_type": "code",
   "execution_count": 121,
   "id": "40f0b213",
   "metadata": {},
   "outputs": [
    {
     "name": "stdout",
     "output_type": "stream",
     "text": [
      "Accuracy: 0.92612\n",
      "precision: 0.8446702944942381\n",
      "recall: 0.8575723106922327\n"
     ]
    }
   ],
   "source": [
    "global X, y\n",
    "\n",
    "X = df[['last_tag','next_tag','pos_tag']]  \n",
    "y = df['ezafe_tag'] \n",
    "\n",
    "gradient_boosting_classifier()"
   ]
  },
  {
   "cell_type": "markdown",
   "id": "753fd670",
   "metadata": {},
   "source": [
    "### XGboost\n",
    "XGBoost is an algorithm that has recently been dominating applied machine learning and Kaggle competitions for structured or tabular data. XGBoost is an implementation of gradient boosted decision trees designed for speed and performance."
   ]
  },
  {
   "cell_type": "code",
   "execution_count": 124,
   "id": "1e226062",
   "metadata": {},
   "outputs": [],
   "source": [
    "def XGboost():\n",
    "    \n",
    "    global X, y\n",
    "    \n",
    "    X_train = X[:-100000]\n",
    "    X_test = X[-100000:]\n",
    "    y_train = y[:-100000]\n",
    "    y_test = y[-100000:]  \n",
    " \n",
    "\n",
    "    clf = XGBClassifier()\n",
    "    clf.fit(X_train,y_train)\n",
    "\n",
    "    y_pred=clf.predict(X_test)\n",
    "    print(\"Accuracy:\",metrics.accuracy_score(y_test, y_pred))\n",
    "    print(\"precision:\", precision_score(y_test, y_pred))\n",
    "    print(\"recall:\", recall_score(y_test, y_pred))"
   ]
  },
  {
   "cell_type": "code",
   "execution_count": 125,
   "id": "8963cadc",
   "metadata": {},
   "outputs": [
    {
     "name": "stdout",
     "output_type": "stream",
     "text": [
      "[17:21:56] WARNING: ../src/learner.cc:1115: Starting in XGBoost 1.3.0, the default evaluation metric used with the objective 'binary:logistic' was changed from 'error' to 'logloss'. Explicitly set eval_metric if you'd like to restore the old behavior.\n",
      "Accuracy: 0.80501\n",
      "precision: 0.5755098426939763\n",
      "recall: 0.7921676958076048\n"
     ]
    }
   ],
   "source": [
    "global X, y\n",
    "\n",
    "X = df[['pos_tag']]  \n",
    "y = df['ezafe_tag'] \n",
    "\n",
    "XGboost()"
   ]
  },
  {
   "cell_type": "code",
   "execution_count": 126,
   "id": "59ad5912",
   "metadata": {},
   "outputs": [
    {
     "name": "stderr",
     "output_type": "stream",
     "text": [
      "/home/niloufar/.local/lib/python3.8/site-packages/xgboost/sklearn.py:1224: UserWarning: The use of label encoder in XGBClassifier is deprecated and will be removed in a future release. To remove this warning, do the following: 1) Pass option use_label_encoder=False when constructing XGBClassifier object; and 2) Encode your labels (y) as integers starting with 0, i.e. 0, 1, 2, ..., [num_class - 1].\n",
      "  warnings.warn(label_encoder_deprecation_msg, UserWarning)\n"
     ]
    },
    {
     "name": "stdout",
     "output_type": "stream",
     "text": [
      "[17:23:27] WARNING: ../src/learner.cc:1115: Starting in XGBoost 1.3.0, the default evaluation metric used with the objective 'binary:logistic' was changed from 'error' to 'logloss'. Explicitly set eval_metric if you'd like to restore the old behavior.\n",
      "Accuracy: 0.76492\n",
      "precision: 0.5486391571553995\n",
      "recall: 0.253859278518037\n"
     ]
    }
   ],
   "source": [
    "global X, y\n",
    "\n",
    "X = df[['last_tag']]  \n",
    "y = df['ezafe_tag'] \n",
    "\n",
    "XGboost()"
   ]
  },
  {
   "cell_type": "code",
   "execution_count": 127,
   "id": "46935baa",
   "metadata": {},
   "outputs": [
    {
     "name": "stderr",
     "output_type": "stream",
     "text": [
      "/home/niloufar/.local/lib/python3.8/site-packages/xgboost/sklearn.py:1224: UserWarning: The use of label encoder in XGBClassifier is deprecated and will be removed in a future release. To remove this warning, do the following: 1) Pass option use_label_encoder=False when constructing XGBClassifier object; and 2) Encode your labels (y) as integers starting with 0, i.e. 0, 1, 2, ..., [num_class - 1].\n",
      "  warnings.warn(label_encoder_deprecation_msg, UserWarning)\n"
     ]
    },
    {
     "name": "stdout",
     "output_type": "stream",
     "text": [
      "[17:24:43] WARNING: ../src/learner.cc:1115: Starting in XGBoost 1.3.0, the default evaluation metric used with the objective 'binary:logistic' was changed from 'error' to 'logloss'. Explicitly set eval_metric if you'd like to restore the old behavior.\n",
      "Accuracy: 0.80214\n",
      "precision: 0.6702382630762724\n",
      "recall: 0.38625284367890805\n"
     ]
    }
   ],
   "source": [
    "global X, y\n",
    "\n",
    "X = df[['next_tag']]  \n",
    "y = df['ezafe_tag'] \n",
    "\n",
    "XGboost()"
   ]
  },
  {
   "cell_type": "code",
   "execution_count": 128,
   "id": "0c0dc62c",
   "metadata": {},
   "outputs": [
    {
     "name": "stderr",
     "output_type": "stream",
     "text": [
      "/home/niloufar/.local/lib/python3.8/site-packages/xgboost/sklearn.py:1224: UserWarning: The use of label encoder in XGBClassifier is deprecated and will be removed in a future release. To remove this warning, do the following: 1) Pass option use_label_encoder=False when constructing XGBClassifier object; and 2) Encode your labels (y) as integers starting with 0, i.e. 0, 1, 2, ..., [num_class - 1].\n",
      "  warnings.warn(label_encoder_deprecation_msg, UserWarning)\n"
     ]
    },
    {
     "name": "stdout",
     "output_type": "stream",
     "text": [
      "[17:26:01] WARNING: ../src/learner.cc:1115: Starting in XGBoost 1.3.0, the default evaluation metric used with the objective 'binary:logistic' was changed from 'error' to 'logloss'. Explicitly set eval_metric if you'd like to restore the old behavior.\n",
      "Accuracy: 0.94494\n",
      "precision: 0.8700906344410876\n",
      "recall: 0.9125771855703607\n"
     ]
    }
   ],
   "source": [
    "global X, y\n",
    "\n",
    "X = df[['last_tag','next_tag','pos_tag']]  \n",
    "y = df['ezafe_tag'] \n",
    "\n",
    "XGboost()"
   ]
  },
  {
   "cell_type": "markdown",
   "id": "e3ec2d0a",
   "metadata": {},
   "source": [
    "Since my precesion did not get better despite trying different models, I decided to add more features; such as less important reasons to have Ezafe such as dependency on last/next 2 words."
   ]
  },
  {
   "cell_type": "code",
   "execution_count": 109,
   "id": "a57b71f3",
   "metadata": {},
   "outputs": [
    {
     "data": {
      "text/html": [
       "<div>\n",
       "<style scoped>\n",
       "    .dataframe tbody tr th:only-of-type {\n",
       "        vertical-align: middle;\n",
       "    }\n",
       "\n",
       "    .dataframe tbody tr th {\n",
       "        vertical-align: top;\n",
       "    }\n",
       "\n",
       "    .dataframe thead th {\n",
       "        text-align: right;\n",
       "    }\n",
       "</style>\n",
       "<table border=\"1\" class=\"dataframe\">\n",
       "  <thead>\n",
       "    <tr style=\"text-align: right;\">\n",
       "      <th></th>\n",
       "      <th>Unnamed: 0</th>\n",
       "      <th>token</th>\n",
       "      <th>pos_tag</th>\n",
       "      <th>ezafe_tag</th>\n",
       "      <th>next_tag</th>\n",
       "      <th>last_tag</th>\n",
       "      <th>next_tag2</th>\n",
       "    </tr>\n",
       "  </thead>\n",
       "  <tbody>\n",
       "    <tr>\n",
       "      <th>0</th>\n",
       "      <td>0</td>\n",
       "      <td>!هنری!</td>\n",
       "      <td>248</td>\n",
       "      <td>0</td>\n",
       "      <td>65</td>\n",
       "      <td>0</td>\n",
       "      <td>167</td>\n",
       "    </tr>\n",
       "    <tr>\n",
       "      <th>1</th>\n",
       "      <td>1</td>\n",
       "      <td>#</td>\n",
       "      <td>65</td>\n",
       "      <td>0</td>\n",
       "      <td>167</td>\n",
       "      <td>248</td>\n",
       "      <td>167</td>\n",
       "    </tr>\n",
       "    <tr>\n",
       "      <th>2</th>\n",
       "      <td>2</td>\n",
       "      <td>مسعود</td>\n",
       "      <td>167</td>\n",
       "      <td>1</td>\n",
       "      <td>167</td>\n",
       "      <td>65</td>\n",
       "      <td>167</td>\n",
       "    </tr>\n",
       "    <tr>\n",
       "      <th>3</th>\n",
       "      <td>3</td>\n",
       "      <td>شجاعی</td>\n",
       "      <td>167</td>\n",
       "      <td>1</td>\n",
       "      <td>167</td>\n",
       "      <td>167</td>\n",
       "      <td>65</td>\n",
       "    </tr>\n",
       "    <tr>\n",
       "      <th>4</th>\n",
       "      <td>4</td>\n",
       "      <td>طباطبایی</td>\n",
       "      <td>167</td>\n",
       "      <td>0</td>\n",
       "      <td>65</td>\n",
       "      <td>167</td>\n",
       "      <td>121</td>\n",
       "    </tr>\n",
       "  </tbody>\n",
       "</table>\n",
       "</div>"
      ],
      "text/plain": [
       "   Unnamed: 0     token  pos_tag  ezafe_tag  next_tag  last_tag  next_tag2\n",
       "0           0    !هنری!      248          0        65         0        167\n",
       "1           1         #       65          0       167       248        167\n",
       "2           2     مسعود      167          1       167        65        167\n",
       "3           3     شجاعی      167          1       167       167         65\n",
       "4           4  طباطبایی      167          0        65       167        121"
      ]
     },
     "execution_count": 109,
     "metadata": {},
     "output_type": "execute_result"
    }
   ],
   "source": [
    "col = df['next_tag'].tolist()\n",
    "col.pop(0)\n",
    "col.append(0)\n",
    "df['next_tag2'] = col\n",
    "df.head()"
   ]
  },
  {
   "cell_type": "code",
   "execution_count": 110,
   "id": "5fddd552",
   "metadata": {},
   "outputs": [
    {
     "name": "stdout",
     "output_type": "stream",
     "text": [
      "Accuracy: 0.95719\n",
      "precision: 0.9214857190233388\n",
      "recall: 0.9030305492362691\n"
     ]
    }
   ],
   "source": [
    "global X, y\n",
    "\n",
    "X = df[['last_tag','next_tag','pos_tag', 'next_tag2']]  \n",
    "y = df['ezafe_tag'] \n",
    "\n",
    "Random_forest()"
   ]
  },
  {
   "cell_type": "code",
   "execution_count": 111,
   "id": "5a74ed30",
   "metadata": {},
   "outputs": [
    {
     "name": "stdout",
     "output_type": "stream",
     "text": [
      "Accuracy: 0.95573\n",
      "precision: 0.9208321173969234\n",
      "recall: 0.8973025674358142\n"
     ]
    }
   ],
   "source": [
    "global X, y\n",
    "\n",
    "X = df[['last_tag','next_tag','pos_tag', 'next_tag2']]  \n",
    "y = df['ezafe_tag'] \n",
    "\n",
    "decision_tree()"
   ]
  },
  {
   "cell_type": "code",
   "execution_count": 129,
   "id": "757804cb",
   "metadata": {},
   "outputs": [
    {
     "name": "stdout",
     "output_type": "stream",
     "text": [
      "Accuracy: 0.93755\n",
      "precision: 0.8908889739988936\n",
      "recall: 0.8504631134221644\n"
     ]
    }
   ],
   "source": [
    "global X, y\n",
    "\n",
    "X = df[['last_tag','next_tag','pos_tag', 'next_tag2']]  \n",
    "y = df['ezafe_tag'] \n",
    "\n",
    "gradient_boosting_classifier()"
   ]
  },
  {
   "cell_type": "code",
   "execution_count": 130,
   "id": "8025a6c8",
   "metadata": {},
   "outputs": [
    {
     "name": "stderr",
     "output_type": "stream",
     "text": [
      "/home/niloufar/.local/lib/python3.8/site-packages/xgboost/sklearn.py:1224: UserWarning: The use of label encoder in XGBClassifier is deprecated and will be removed in a future release. To remove this warning, do the following: 1) Pass option use_label_encoder=False when constructing XGBClassifier object; and 2) Encode your labels (y) as integers starting with 0, i.e. 0, 1, 2, ..., [num_class - 1].\n",
      "  warnings.warn(label_encoder_deprecation_msg, UserWarning)\n"
     ]
    },
    {
     "name": "stdout",
     "output_type": "stream",
     "text": [
      "[17:30:12] WARNING: ../src/learner.cc:1115: Starting in XGBoost 1.3.0, the default evaluation metric used with the objective 'binary:logistic' was changed from 'error' to 'logloss'. Explicitly set eval_metric if you'd like to restore the old behavior.\n",
      "Accuracy: 0.95718\n",
      "precision: 0.9186362513382196\n",
      "recall: 0.9063210919727007\n"
     ]
    }
   ],
   "source": [
    "global X, y\n",
    "\n",
    "X = df[['last_tag','next_tag','pos_tag', 'next_tag2']]  \n",
    "y = df['ezafe_tag'] \n",
    "\n",
    "XGboost()"
   ]
  },
  {
   "cell_type": "code",
   "execution_count": 113,
   "id": "a7657801",
   "metadata": {},
   "outputs": [
    {
     "data": {
      "text/html": [
       "<div>\n",
       "<style scoped>\n",
       "    .dataframe tbody tr th:only-of-type {\n",
       "        vertical-align: middle;\n",
       "    }\n",
       "\n",
       "    .dataframe tbody tr th {\n",
       "        vertical-align: top;\n",
       "    }\n",
       "\n",
       "    .dataframe thead th {\n",
       "        text-align: right;\n",
       "    }\n",
       "</style>\n",
       "<table border=\"1\" class=\"dataframe\">\n",
       "  <thead>\n",
       "    <tr style=\"text-align: right;\">\n",
       "      <th></th>\n",
       "      <th>Unnamed: 0</th>\n",
       "      <th>token</th>\n",
       "      <th>pos_tag</th>\n",
       "      <th>ezafe_tag</th>\n",
       "      <th>next_tag</th>\n",
       "      <th>last_tag</th>\n",
       "      <th>next_tag2</th>\n",
       "      <th>last_tag2</th>\n",
       "    </tr>\n",
       "  </thead>\n",
       "  <tbody>\n",
       "    <tr>\n",
       "      <th>0</th>\n",
       "      <td>0</td>\n",
       "      <td>!هنری!</td>\n",
       "      <td>248</td>\n",
       "      <td>0</td>\n",
       "      <td>65</td>\n",
       "      <td>0</td>\n",
       "      <td>167</td>\n",
       "      <td>0</td>\n",
       "    </tr>\n",
       "    <tr>\n",
       "      <th>1</th>\n",
       "      <td>1</td>\n",
       "      <td>#</td>\n",
       "      <td>65</td>\n",
       "      <td>0</td>\n",
       "      <td>167</td>\n",
       "      <td>248</td>\n",
       "      <td>167</td>\n",
       "      <td>0</td>\n",
       "    </tr>\n",
       "    <tr>\n",
       "      <th>2</th>\n",
       "      <td>2</td>\n",
       "      <td>مسعود</td>\n",
       "      <td>167</td>\n",
       "      <td>1</td>\n",
       "      <td>167</td>\n",
       "      <td>65</td>\n",
       "      <td>167</td>\n",
       "      <td>248</td>\n",
       "    </tr>\n",
       "    <tr>\n",
       "      <th>3</th>\n",
       "      <td>3</td>\n",
       "      <td>شجاعی</td>\n",
       "      <td>167</td>\n",
       "      <td>1</td>\n",
       "      <td>167</td>\n",
       "      <td>167</td>\n",
       "      <td>65</td>\n",
       "      <td>65</td>\n",
       "    </tr>\n",
       "    <tr>\n",
       "      <th>4</th>\n",
       "      <td>4</td>\n",
       "      <td>طباطبایی</td>\n",
       "      <td>167</td>\n",
       "      <td>0</td>\n",
       "      <td>65</td>\n",
       "      <td>167</td>\n",
       "      <td>121</td>\n",
       "      <td>167</td>\n",
       "    </tr>\n",
       "  </tbody>\n",
       "</table>\n",
       "</div>"
      ],
      "text/plain": [
       "   Unnamed: 0     token  pos_tag  ezafe_tag  next_tag  last_tag  next_tag2  \\\n",
       "0           0    !هنری!      248          0        65         0        167   \n",
       "1           1         #       65          0       167       248        167   \n",
       "2           2     مسعود      167          1       167        65        167   \n",
       "3           3     شجاعی      167          1       167       167         65   \n",
       "4           4  طباطبایی      167          0        65       167        121   \n",
       "\n",
       "   last_tag2  \n",
       "0          0  \n",
       "1          0  \n",
       "2        248  \n",
       "3         65  \n",
       "4        167  "
      ]
     },
     "execution_count": 113,
     "metadata": {},
     "output_type": "execute_result"
    }
   ],
   "source": [
    "col = df['last_tag'].tolist()\n",
    "col.pop()\n",
    "col.insert(0, 0)\n",
    "df['last_tag2'] = col\n",
    "df.head()"
   ]
  },
  {
   "cell_type": "code",
   "execution_count": 114,
   "id": "472b3d38",
   "metadata": {},
   "outputs": [
    {
     "name": "stdout",
     "output_type": "stream",
     "text": [
      "Accuracy: 0.9555\n",
      "precision: 0.9174809539582643\n",
      "recall: 0.9001868703282417\n"
     ]
    }
   ],
   "source": [
    "global X, y\n",
    "\n",
    "X = df[['last_tag','next_tag','pos_tag', 'next_tag2','last_tag2']]  \n",
    "y = df['ezafe_tag'] \n",
    "\n",
    "Random_forest()"
   ]
  },
  {
   "cell_type": "code",
   "execution_count": 115,
   "id": "df7c8d2d",
   "metadata": {},
   "outputs": [
    {
     "name": "stdout",
     "output_type": "stream",
     "text": [
      "Accuracy: 0.95088\n",
      "precision: 0.912631931646842\n",
      "recall: 0.8851966200844978\n"
     ]
    }
   ],
   "source": [
    "global X, y\n",
    "\n",
    "X = df[['last_tag','next_tag','pos_tag', 'next_tag2','last_tag2']]  \n",
    "y = df['ezafe_tag'] \n",
    "\n",
    "decision_tree()"
   ]
  },
  {
   "cell_type": "code",
   "execution_count": 131,
   "id": "b20eb533",
   "metadata": {},
   "outputs": [
    {
     "name": "stdout",
     "output_type": "stream",
     "text": [
      "Accuracy: 0.93755\n",
      "precision: 0.8908889739988936\n",
      "recall: 0.8504631134221644\n"
     ]
    }
   ],
   "source": [
    "global X, y\n",
    "\n",
    "X = df[['last_tag','next_tag','pos_tag', 'next_tag2','last_tag2']]  \n",
    "y = df['ezafe_tag'] \n",
    "\n",
    "gradient_boosting_classifier()"
   ]
  },
  {
   "cell_type": "code",
   "execution_count": 132,
   "id": "92e895f4",
   "metadata": {},
   "outputs": [
    {
     "name": "stderr",
     "output_type": "stream",
     "text": [
      "/home/niloufar/.local/lib/python3.8/site-packages/xgboost/sklearn.py:1224: UserWarning: The use of label encoder in XGBClassifier is deprecated and will be removed in a future release. To remove this warning, do the following: 1) Pass option use_label_encoder=False when constructing XGBClassifier object; and 2) Encode your labels (y) as integers starting with 0, i.e. 0, 1, 2, ..., [num_class - 1].\n",
      "  warnings.warn(label_encoder_deprecation_msg, UserWarning)\n"
     ]
    },
    {
     "name": "stdout",
     "output_type": "stream",
     "text": [
      "[17:35:25] WARNING: ../src/learner.cc:1115: Starting in XGBoost 1.3.0, the default evaluation metric used with the objective 'binary:logistic' was changed from 'error' to 'logloss'. Explicitly set eval_metric if you'd like to restore the old behavior.\n",
      "Accuracy: 0.9572\n",
      "precision: 0.9196450680973999\n",
      "recall: 0.9052242443938902\n"
     ]
    }
   ],
   "source": [
    "global X, y\n",
    "\n",
    "X = df[['last_tag','next_tag','pos_tag', 'next_tag2','last_tag2']]  \n",
    "y = df['ezafe_tag'] \n",
    "\n",
    "XGboost()"
   ]
  },
  {
   "cell_type": "code",
   "execution_count": 154,
   "id": "0b2cb2ac",
   "metadata": {},
   "outputs": [],
   "source": [
    "def find_last1(pword):\n",
    "    \n",
    "    chars = \"1234567890!@#$%^&*)(-_=+\\|}{][;:/?>.<,\"\n",
    "    n = \"0\"\n",
    "    \n",
    "    if pword[-1] not in chars:\n",
    "        \n",
    "        return pword[-1]\n",
    "    \n",
    "    else:\n",
    "        \n",
    "        return n"
   ]
  },
  {
   "cell_type": "code",
   "execution_count": 155,
   "id": "e4428479",
   "metadata": {},
   "outputs": [],
   "source": [
    "def find_last2(pword):\n",
    "    \n",
    "    chars = \"1234567890!@#$%^&*)(-_=+\\|}{][;:/?>.<,\"\n",
    "    n = \"0\"\n",
    "    \n",
    "    if pword[-1] not in chars:\n",
    "        \n",
    "        return n\n",
    "    \n",
    "    else:\n",
    "        \n",
    "        return pword[-1]"
   ]
  },
  {
   "cell_type": "code",
   "execution_count": 156,
   "id": "f2379dfb",
   "metadata": {},
   "outputs": [
    {
     "data": {
      "text/html": [
       "<div>\n",
       "<style scoped>\n",
       "    .dataframe tbody tr th:only-of-type {\n",
       "        vertical-align: middle;\n",
       "    }\n",
       "\n",
       "    .dataframe tbody tr th {\n",
       "        vertical-align: top;\n",
       "    }\n",
       "\n",
       "    .dataframe thead th {\n",
       "        text-align: right;\n",
       "    }\n",
       "</style>\n",
       "<table border=\"1\" class=\"dataframe\">\n",
       "  <thead>\n",
       "    <tr style=\"text-align: right;\">\n",
       "      <th></th>\n",
       "      <th>Unnamed: 0</th>\n",
       "      <th>token</th>\n",
       "      <th>pos_tag</th>\n",
       "      <th>ezafe_tag</th>\n",
       "      <th>next_tag</th>\n",
       "      <th>last_tag</th>\n",
       "      <th>next_tag2</th>\n",
       "      <th>last_tag2</th>\n",
       "      <th>eletter</th>\n",
       "    </tr>\n",
       "  </thead>\n",
       "  <tbody>\n",
       "    <tr>\n",
       "      <th>0</th>\n",
       "      <td>0</td>\n",
       "      <td>!هنری!</td>\n",
       "      <td>248</td>\n",
       "      <td>0</td>\n",
       "      <td>65</td>\n",
       "      <td>0</td>\n",
       "      <td>167</td>\n",
       "      <td>0</td>\n",
       "      <td>2</td>\n",
       "    </tr>\n",
       "    <tr>\n",
       "      <th>1</th>\n",
       "      <td>1</td>\n",
       "      <td>#</td>\n",
       "      <td>65</td>\n",
       "      <td>0</td>\n",
       "      <td>167</td>\n",
       "      <td>248</td>\n",
       "      <td>167</td>\n",
       "      <td>0</td>\n",
       "      <td>2</td>\n",
       "    </tr>\n",
       "    <tr>\n",
       "      <th>2</th>\n",
       "      <td>2</td>\n",
       "      <td>مسعود</td>\n",
       "      <td>167</td>\n",
       "      <td>1</td>\n",
       "      <td>167</td>\n",
       "      <td>65</td>\n",
       "      <td>167</td>\n",
       "      <td>248</td>\n",
       "      <td>70</td>\n",
       "    </tr>\n",
       "    <tr>\n",
       "      <th>3</th>\n",
       "      <td>3</td>\n",
       "      <td>شجاعی</td>\n",
       "      <td>167</td>\n",
       "      <td>1</td>\n",
       "      <td>167</td>\n",
       "      <td>167</td>\n",
       "      <td>65</td>\n",
       "      <td>65</td>\n",
       "      <td>103</td>\n",
       "    </tr>\n",
       "    <tr>\n",
       "      <th>4</th>\n",
       "      <td>4</td>\n",
       "      <td>طباطبایی</td>\n",
       "      <td>167</td>\n",
       "      <td>0</td>\n",
       "      <td>65</td>\n",
       "      <td>167</td>\n",
       "      <td>121</td>\n",
       "      <td>167</td>\n",
       "      <td>103</td>\n",
       "    </tr>\n",
       "  </tbody>\n",
       "</table>\n",
       "</div>"
      ],
      "text/plain": [
       "   Unnamed: 0     token  pos_tag  ezafe_tag  next_tag  last_tag  next_tag2  \\\n",
       "0           0    !هنری!      248          0        65         0        167   \n",
       "1           1         #       65          0       167       248        167   \n",
       "2           2     مسعود      167          1       167        65        167   \n",
       "3           3     شجاعی      167          1       167       167         65   \n",
       "4           4  طباطبایی      167          0        65       167        121   \n",
       "\n",
       "   last_tag2  eletter  \n",
       "0          0        2  \n",
       "1          0        2  \n",
       "2        248       70  \n",
       "3         65      103  \n",
       "4        167      103  "
      ]
     },
     "execution_count": 156,
     "metadata": {},
     "output_type": "execute_result"
    }
   ],
   "source": [
    "df[\"eletter\"] = df['token'].apply(find_last1)\n",
    "df[\"eletter\"] = le.fit_transform(df.eletter.values)\n",
    "df.head()"
   ]
  },
  {
   "cell_type": "code",
   "execution_count": 158,
   "id": "f6b3a17b",
   "metadata": {},
   "outputs": [
    {
     "data": {
      "text/html": [
       "<div>\n",
       "<style scoped>\n",
       "    .dataframe tbody tr th:only-of-type {\n",
       "        vertical-align: middle;\n",
       "    }\n",
       "\n",
       "    .dataframe tbody tr th {\n",
       "        vertical-align: top;\n",
       "    }\n",
       "\n",
       "    .dataframe thead th {\n",
       "        text-align: right;\n",
       "    }\n",
       "</style>\n",
       "<table border=\"1\" class=\"dataframe\">\n",
       "  <thead>\n",
       "    <tr style=\"text-align: right;\">\n",
       "      <th></th>\n",
       "      <th>Unnamed: 0</th>\n",
       "      <th>token</th>\n",
       "      <th>pos_tag</th>\n",
       "      <th>ezafe_tag</th>\n",
       "      <th>next_tag</th>\n",
       "      <th>last_tag</th>\n",
       "      <th>next_tag2</th>\n",
       "      <th>last_tag2</th>\n",
       "      <th>eletter</th>\n",
       "      <th>emark</th>\n",
       "    </tr>\n",
       "  </thead>\n",
       "  <tbody>\n",
       "    <tr>\n",
       "      <th>0</th>\n",
       "      <td>0</td>\n",
       "      <td>!هنری!</td>\n",
       "      <td>248</td>\n",
       "      <td>0</td>\n",
       "      <td>65</td>\n",
       "      <td>0</td>\n",
       "      <td>167</td>\n",
       "      <td>0</td>\n",
       "      <td>2</td>\n",
       "      <td>0</td>\n",
       "    </tr>\n",
       "    <tr>\n",
       "      <th>1</th>\n",
       "      <td>1</td>\n",
       "      <td>#</td>\n",
       "      <td>65</td>\n",
       "      <td>0</td>\n",
       "      <td>167</td>\n",
       "      <td>248</td>\n",
       "      <td>167</td>\n",
       "      <td>0</td>\n",
       "      <td>2</td>\n",
       "      <td>1</td>\n",
       "    </tr>\n",
       "    <tr>\n",
       "      <th>2</th>\n",
       "      <td>2</td>\n",
       "      <td>مسعود</td>\n",
       "      <td>167</td>\n",
       "      <td>1</td>\n",
       "      <td>167</td>\n",
       "      <td>65</td>\n",
       "      <td>167</td>\n",
       "      <td>248</td>\n",
       "      <td>70</td>\n",
       "      <td>13</td>\n",
       "    </tr>\n",
       "    <tr>\n",
       "      <th>3</th>\n",
       "      <td>3</td>\n",
       "      <td>شجاعی</td>\n",
       "      <td>167</td>\n",
       "      <td>1</td>\n",
       "      <td>167</td>\n",
       "      <td>167</td>\n",
       "      <td>65</td>\n",
       "      <td>65</td>\n",
       "      <td>103</td>\n",
       "      <td>13</td>\n",
       "    </tr>\n",
       "    <tr>\n",
       "      <th>4</th>\n",
       "      <td>4</td>\n",
       "      <td>طباطبایی</td>\n",
       "      <td>167</td>\n",
       "      <td>0</td>\n",
       "      <td>65</td>\n",
       "      <td>167</td>\n",
       "      <td>121</td>\n",
       "      <td>167</td>\n",
       "      <td>103</td>\n",
       "      <td>13</td>\n",
       "    </tr>\n",
       "  </tbody>\n",
       "</table>\n",
       "</div>"
      ],
      "text/plain": [
       "   Unnamed: 0     token  pos_tag  ezafe_tag  next_tag  last_tag  next_tag2  \\\n",
       "0           0    !هنری!      248          0        65         0        167   \n",
       "1           1         #       65          0       167       248        167   \n",
       "2           2     مسعود      167          1       167        65        167   \n",
       "3           3     شجاعی      167          1       167       167         65   \n",
       "4           4  طباطبایی      167          0        65       167        121   \n",
       "\n",
       "   last_tag2  eletter  emark  \n",
       "0          0        2      0  \n",
       "1          0        2      1  \n",
       "2        248       70     13  \n",
       "3         65      103     13  \n",
       "4        167      103     13  "
      ]
     },
     "execution_count": 158,
     "metadata": {},
     "output_type": "execute_result"
    }
   ],
   "source": [
    "df[\"emark\"] = df['token'].apply(find_last2)\n",
    "df[\"emark\"] = le.fit_transform(df.emark.values)\n",
    "df.head()"
   ]
  },
  {
   "cell_type": "code",
   "execution_count": 159,
   "id": "b5d935ab",
   "metadata": {},
   "outputs": [
    {
     "name": "stdout",
     "output_type": "stream",
     "text": [
      "Accuracy: 0.96958\n",
      "precision: 0.9345041488761782\n",
      "recall: 0.9424764380890478\n"
     ]
    }
   ],
   "source": [
    "global X, y\n",
    "\n",
    "X = df[['last_tag','next_tag','pos_tag', 'next_tag2','last_tag2', \"eletter\", \"emark\"]]  \n",
    "y = df['ezafe_tag'] \n",
    "\n",
    "Random_forest()"
   ]
  },
  {
   "cell_type": "code",
   "execution_count": 164,
   "id": "cf6cc703",
   "metadata": {},
   "outputs": [
    {
     "name": "stdout",
     "output_type": "stream",
     "text": [
      "Accuracy: 0.96241\n",
      "precision: 0.9294568216447721\n",
      "recall: 0.916883327916802\n"
     ]
    }
   ],
   "source": [
    "global X, y\n",
    "\n",
    "X = df[['last_tag','next_tag','pos_tag', 'next_tag2','last_tag2', \"eletter\", \"emark\"]]  \n",
    "y = df['ezafe_tag'] \n",
    "\n",
    "decision_tree()"
   ]
  },
  {
   "cell_type": "code",
   "execution_count": 161,
   "id": "9bd87c44",
   "metadata": {},
   "outputs": [
    {
     "name": "stdout",
     "output_type": "stream",
     "text": [
      "Accuracy: 0.93788\n",
      "precision: 0.8840247057841583\n",
      "recall: 0.8605378615534611\n"
     ]
    }
   ],
   "source": [
    "global X, y\n",
    "\n",
    "X = df[['last_tag','next_tag','pos_tag', 'next_tag2','last_tag2', \"eletter\", \"emark\"]]  \n",
    "y = df['ezafe_tag'] \n",
    "\n",
    "gradient_boosting_classifier()"
   ]
  },
  {
   "cell_type": "code",
   "execution_count": 162,
   "id": "47d0e1e3",
   "metadata": {},
   "outputs": [
    {
     "name": "stderr",
     "output_type": "stream",
     "text": [
      "/home/niloufar/.local/lib/python3.8/site-packages/xgboost/sklearn.py:1224: UserWarning: The use of label encoder in XGBClassifier is deprecated and will be removed in a future release. To remove this warning, do the following: 1) Pass option use_label_encoder=False when constructing XGBClassifier object; and 2) Encode your labels (y) as integers starting with 0, i.e. 0, 1, 2, ..., [num_class - 1].\n",
      "  warnings.warn(label_encoder_deprecation_msg, UserWarning)\n"
     ]
    },
    {
     "name": "stdout",
     "output_type": "stream",
     "text": [
      "[18:24:02] WARNING: ../src/learner.cc:1115: Starting in XGBoost 1.3.0, the default evaluation metric used with the objective 'binary:logistic' was changed from 'error' to 'logloss'. Explicitly set eval_metric if you'd like to restore the old behavior.\n",
      "Accuracy: 0.97096\n",
      "precision: 0.9321311997452432\n",
      "recall: 0.9512918427039324\n"
     ]
    }
   ],
   "source": [
    "global X, y\n",
    "\n",
    "X = df[['last_tag','next_tag','pos_tag', 'next_tag2','last_tag2', \"eletter\", \"emark\"]]  \n",
    "y = df['ezafe_tag'] \n",
    "\n",
    "XGboost()"
   ]
  },
  {
   "cell_type": "code",
   "execution_count": null,
   "id": "29af1ace",
   "metadata": {},
   "outputs": [],
   "source": []
  }
 ],
 "metadata": {
  "kernelspec": {
   "display_name": "Python 3 (ipykernel)",
   "language": "python",
   "name": "python3"
  },
  "language_info": {
   "codemirror_mode": {
    "name": "ipython",
    "version": 3
   },
   "file_extension": ".py",
   "mimetype": "text/x-python",
   "name": "python",
   "nbconvert_exporter": "python",
   "pygments_lexer": "ipython3",
   "version": "3.8.10"
  }
 },
 "nbformat": 4,
 "nbformat_minor": 5
}
